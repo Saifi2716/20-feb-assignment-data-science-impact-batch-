{
 "cells": [
  {
   "cell_type": "code",
   "execution_count": null,
   "id": "56122c78-236c-4f8b-b0db-385e614fc68f",
   "metadata": {},
   "outputs": [],
   "source": [
    "#Q1. Explain GET and POST methods.\n",
    "GET Method\n",
    "Purpose: Retrieves data from the server.\n",
    "Data Transmission: Sends data in the URL (query string).\n",
    "Security: Less secure as data is visible in the URL.\n",
    "Usage: Used for fetching resources (e.g., search queries).\n",
    "\n",
    "\n",
    "GET /search?q=python HTTP/1.1\n",
    "\n",
    "\n",
    "POST Method\n",
    "Purpose: Submits data to the server.\n",
    "Data Transmission: Sends data in the request body.\n",
    "Security: More secure as data is not visible in the URL.\n",
    "Usage: Used for actions like submitting forms or uploading files.\n",
    "\n",
    "\n",
    "POST /submit HTTP/1.1\n",
    "Content-Type: application/json\n",
    "{\n",
    "  \"name\": \"John\",\n",
    "  \"age\": 30\n",
    "}\n",
    "\n",
    "\n",
    "\n"
   ]
  },
  {
   "cell_type": "code",
   "execution_count": null,
   "id": "446a0b4e-795e-4340-9d8e-8a05d339956c",
   "metadata": {},
   "outputs": [],
   "source": [
    "#Q2. Why is request used in Flask?\n",
    "from flask import Flask, request\n",
    "\n",
    "app = Flask(__name__)\n",
    "\n",
    "@app.route('/submit', methods=['POST'])\n",
    "def submit():\n",
    "    name = request.form.get('name')\n",
    "    return f\"Hello, {name}!\"\n",
    "\n",
    "@app.route('/search', methods=['GET'])\n",
    "def search():\n",
    "    query = request.args.get('q')\n",
    "    return f\"You searched for {query}!\"\n"
   ]
  },
  {
   "cell_type": "code",
   "execution_count": null,
   "id": "750472ff-66d2-4708-8503-a8b07a016f75",
   "metadata": {},
   "outputs": [],
   "source": [
    "#Q3. Why is redirect() used in Flask?\n",
    "In Flask, redirect() is used to send the client to a different URL.\n",
    "\n",
    "Key Points:\n",
    "It generates an HTTP response with a 302 Found status code by default.\n",
    "Often used after form submissions, logins, or route handling.\n",
    "Can specify a custom status code like 301 (Permanent Redirect).\n",
    "\n",
    "    from flask import redirect, url_for\n",
    "\n",
    "@app.route('/login')\n",
    "def login():\n",
    "    return redirect(url_for('profile'))\n"
   ]
  },
  {
   "cell_type": "code",
   "execution_count": null,
   "id": "63657d32-043c-4a5c-9358-0d117c67fdf1",
   "metadata": {},
   "outputs": [],
   "source": [
    "#Q4. What are templates in Flask? Why is the render_template() function used?\n",
    "Templates in Flask:\n",
    "Definition: Templates are HTML files used to dynamically generate web pages in Flask.\n",
    "Purpose: Enable dynamic content rendering by combining static HTML with Python data.\n",
    "Engine: Flask uses the Jinja2 templating engine for templates.\n",
    "render_template() Function:\n",
    "Purpose: Renders an HTML template with dynamic data passed to it.\n",
    "Usage: Combines a template file with variables from the Python backend.\n",
    "\n",
    "from flask import Flask, render_template\n",
    "\n",
    "app = Flask(__name__)\n",
    "\n",
    "@app.route('/')\n",
    "def home():\n",
    "    return render_template('home.html', title=\"Home Page\", user=\"John\")\n"
   ]
  },
  {
   "cell_type": "code",
   "execution_count": null,
   "id": "ccd82e61-dae1-4a08-88aa-5e87ed639bd3",
   "metadata": {},
   "outputs": [],
   "source": [
    "#Q5. Create a simple API. Use Postman to test it. Attach the screenshot of the output in the Jupyter Notebook.\n",
    "from flask import Flask, jsonify, request\n",
    "\n",
    "app = Flask(__name__)\n",
    "\n",
    "# Sample API Endpoint\n",
    "@app.route('/api/greet', methods=['GET', 'POST'])\n",
    "def greet():\n",
    "    if request.method == 'POST':\n",
    "        data = request.get_json()\n",
    "        name = data.get('name', 'Guest')\n",
    "        return jsonify({\"message\": f\"Hello, {name}!\"})\n",
    "    return jsonify({\"message\": \"Hello, World!\"})\n",
    "\n",
    "if __name__ == '__main__':\n",
    "    app.run(debug=True)\n"
   ]
  }
 ],
 "metadata": {
  "kernelspec": {
   "display_name": "Python 3 (ipykernel)",
   "language": "python",
   "name": "python3"
  },
  "language_info": {
   "codemirror_mode": {
    "name": "ipython",
    "version": 3
   },
   "file_extension": ".py",
   "mimetype": "text/x-python",
   "name": "python",
   "nbconvert_exporter": "python",
   "pygments_lexer": "ipython3",
   "version": "3.12.4"
  }
 },
 "nbformat": 4,
 "nbformat_minor": 5
}
